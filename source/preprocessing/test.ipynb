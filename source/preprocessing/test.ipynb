{
 "cells": [
  {
   "cell_type": "code",
   "execution_count": 1,
   "metadata": {},
   "outputs": [],
   "source": [
    "test_location = \"data/arxiv_summarization/stories/test.pt\"\n",
    "\n",
    "import torch\n",
    "\n",
    "from torch.utils.data import DataLoader\n",
    "\n",
    "# Read the test data\n",
    "test_data = torch.load(test_location)"
   ]
  },
  {
   "cell_type": "code",
   "execution_count": 2,
   "metadata": {},
   "outputs": [
    {
     "data": {
      "text/plain": [
       "dict_keys(['test_0', 'test_1', 'test_2'])"
      ]
     },
     "execution_count": 2,
     "metadata": {},
     "output_type": "execute_result"
    }
   ],
   "source": [
    "test_data.keys()"
   ]
  },
  {
   "cell_type": "code",
   "execution_count": 3,
   "metadata": {},
   "outputs": [
    {
     "data": {
      "text/plain": [
       "dict_keys(['article', 'abstract', 'input_ids', 'attention_masks', 'cls_idx', 'abstract_vector'])"
      ]
     },
     "execution_count": 3,
     "metadata": {},
     "output_type": "execute_result"
    }
   ],
   "source": [
    "test_data['test_0'].keys()"
   ]
  },
  {
   "cell_type": "code",
   "execution_count": 5,
   "metadata": {},
   "outputs": [
    {
     "data": {
      "text/plain": [
       "245"
      ]
     },
     "execution_count": 5,
     "metadata": {},
     "output_type": "execute_result"
    }
   ],
   "source": [
    "len(test_data['test_0']['abstract_vector'])"
   ]
  },
  {
   "cell_type": "code",
   "execution_count": 6,
   "metadata": {},
   "outputs": [
    {
     "data": {
      "text/plain": [
       "[0,\n",
       " 23,\n",
       " 42,\n",
       " 85,\n",
       " 127,\n",
       " 150,\n",
       " 189,\n",
       " 206,\n",
       " 222,\n",
       " 239,\n",
       " 271,\n",
       " 293,\n",
       " 311,\n",
       " 343,\n",
       " 372,\n",
       " 398,\n",
       " 422,\n",
       " 443,\n",
       " 472,\n",
       " 503,\n",
       " 546,\n",
       " 604,\n",
       " 626,\n",
       " 652,\n",
       " 701,\n",
       " 755,\n",
       " 787,\n",
       " 820,\n",
       " 840,\n",
       " 865,\n",
       " 902,\n",
       " 931,\n",
       " 956,\n",
       " 991,\n",
       " 1015,\n",
       " 1057,\n",
       " 1072,\n",
       " 1094,\n",
       " 1121,\n",
       " 1162,\n",
       " 1180,\n",
       " 1222,\n",
       " 1250,\n",
       " 1281,\n",
       " 1295,\n",
       " 1318,\n",
       " 1346,\n",
       " 1406,\n",
       " 1453,\n",
       " 1471,\n",
       " 1518,\n",
       " 1542,\n",
       " 1562,\n",
       " 1612,\n",
       " 1633,\n",
       " 1652,\n",
       " 1666,\n",
       " 1701,\n",
       " 1726,\n",
       " 1756,\n",
       " 1771,\n",
       " 1806,\n",
       " 1851,\n",
       " 1874,\n",
       " 1885,\n",
       " 1908,\n",
       " 1922,\n",
       " 1944,\n",
       " 1961,\n",
       " 1972,\n",
       " 1988,\n",
       " 2011,\n",
       " 2015,\n",
       " 2054,\n",
       " 2094,\n",
       " 2122,\n",
       " 2172,\n",
       " 2212,\n",
       " 2268,\n",
       " 2305,\n",
       " 2334,\n",
       " 2349,\n",
       " 2409,\n",
       " 2427,\n",
       " 2476,\n",
       " 2524,\n",
       " 2694,\n",
       " 2732,\n",
       " 2748,\n",
       " 2817,\n",
       " 2831,\n",
       " 2834,\n",
       " 2848,\n",
       " 2866,\n",
       " 2882,\n",
       " 2922,\n",
       " 2957,\n",
       " 3017,\n",
       " 3056,\n",
       " 3184,\n",
       " 3231,\n",
       " 3267,\n",
       " 3308,\n",
       " 3340,\n",
       " 3403,\n",
       " 3417,\n",
       " 3439,\n",
       " 3456,\n",
       " 3467,\n",
       " 3483,\n",
       " 3591,\n",
       " 3645,\n",
       " 3686,\n",
       " 3730,\n",
       " 3760,\n",
       " 3865,\n",
       " 3974,\n",
       " 4007,\n",
       " 4034,\n",
       " 4095,\n",
       " 4116,\n",
       " 4140,\n",
       " 4164,\n",
       " 4191,\n",
       " 4219,\n",
       " 4231,\n",
       " 4252,\n",
       " 4271,\n",
       " 4291,\n",
       " 4294,\n",
       " 4310,\n",
       " 4335,\n",
       " 4351,\n",
       " 4386,\n",
       " 4399,\n",
       " 4500,\n",
       " 4531,\n",
       " 4571,\n",
       " 4640,\n",
       " 4691,\n",
       " 4758,\n",
       " 4782,\n",
       " 4821,\n",
       " 4890,\n",
       " 4917,\n",
       " 4932,\n",
       " 4966,\n",
       " 4988,\n",
       " 5057,\n",
       " 5106,\n",
       " 5138,\n",
       " 5214,\n",
       " 5237,\n",
       " 5251,\n",
       " 5281,\n",
       " 5326,\n",
       " 5363,\n",
       " 5469,\n",
       " 5529,\n",
       " 5573,\n",
       " 5627,\n",
       " 5642,\n",
       " 5686,\n",
       " 5762,\n",
       " 5800,\n",
       " 5817,\n",
       " 5845,\n",
       " 5897,\n",
       " 5964,\n",
       " 5977,\n",
       " 6000,\n",
       " 6030,\n",
       " 6086,\n",
       " 6108,\n",
       " 6148,\n",
       " 6174,\n",
       " 6201,\n",
       " 6234,\n",
       " 6245,\n",
       " 6308,\n",
       " 6352,\n",
       " 6384,\n",
       " 6433,\n",
       " 6480,\n",
       " 6512,\n",
       " 6542,\n",
       " 6554,\n",
       " 6573,\n",
       " 6593,\n",
       " 6605,\n",
       " 6623,\n",
       " 6652,\n",
       " 6668,\n",
       " 6691,\n",
       " 6734,\n",
       " 6797,\n",
       " 6832,\n",
       " 6857,\n",
       " 6879,\n",
       " 6932,\n",
       " 6962,\n",
       " 6994,\n",
       " 7016,\n",
       " 7034,\n",
       " 7143,\n",
       " 7169,\n",
       " 7225,\n",
       " 7254,\n",
       " 7272,\n",
       " 7286,\n",
       " 7299,\n",
       " 7318,\n",
       " 7373,\n",
       " 7416,\n",
       " 7465,\n",
       " 7497,\n",
       " 7533,\n",
       " 7557,\n",
       " 7594,\n",
       " 7597,\n",
       " 7615,\n",
       " 7681,\n",
       " 7781,\n",
       " 7806,\n",
       " 7863,\n",
       " 7909,\n",
       " 7962,\n",
       " 7975,\n",
       " 8026,\n",
       " 8069,\n",
       " 8098,\n",
       " 8130,\n",
       " 8140,\n",
       " 8170,\n",
       " 8181,\n",
       " 8207,\n",
       " 8219,\n",
       " 8273,\n",
       " 8297,\n",
       " 8307,\n",
       " 8338,\n",
       " 8342,\n",
       " 8454,\n",
       " 8496,\n",
       " 8533]"
      ]
     },
     "execution_count": 6,
     "metadata": {},
     "output_type": "execute_result"
    }
   ],
   "source": [
    "test_data['test_0']['cls_idx']"
   ]
  },
  {
   "cell_type": "code",
   "execution_count": 40,
   "metadata": {},
   "outputs": [
    {
     "data": {
      "text/plain": [
       "8547"
      ]
     },
     "execution_count": 40,
     "metadata": {},
     "output_type": "execute_result"
    }
   ],
   "source": [
    "len(test_data['test_0']['input_ids'])"
   ]
  },
  {
   "cell_type": "code",
   "execution_count": 44,
   "metadata": {},
   "outputs": [
    {
     "data": {
      "text/plain": [
       "101"
      ]
     },
     "execution_count": 44,
     "metadata": {},
     "output_type": "execute_result"
    }
   ],
   "source": [
    "test_data['test_0']['input_ids'][0]"
   ]
  }
 ],
 "metadata": {
  "kernelspec": {
   "display_name": "ml",
   "language": "python",
   "name": "python3"
  },
  "language_info": {
   "codemirror_mode": {
    "name": "ipython",
    "version": 3
   },
   "file_extension": ".py",
   "mimetype": "text/x-python",
   "name": "python",
   "nbconvert_exporter": "python",
   "pygments_lexer": "ipython3",
   "version": "3.9.18"
  }
 },
 "nbformat": 4,
 "nbformat_minor": 2
}
